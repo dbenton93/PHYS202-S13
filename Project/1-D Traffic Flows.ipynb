{
 "metadata": {
  "name": "1-D Traffic Flows"
 },
 "nbformat": 3,
 "nbformat_minor": 0,
 "worksheets": [
  {
   "cells": [
    {
     "cell_type": "code",
     "collapsed": false,
     "input": [
      "import numpy as np\n",
      "import random as rd\n",
      "N = 5\n",
      "L = 40\n",
      "x = [rd.randint(0,L) for i in range(10)]\n",
      "v = [rd.randint(0,L/4) for i in range(10)]\n",
      "xv = ([[x], [v]])\n",
      "print xv\n",
      "#only unique x values (no car crashes)\n",
      "#shuffle a defined road"
     ],
     "language": "python",
     "metadata": {},
     "outputs": [
      {
       "output_type": "stream",
       "stream": "stdout",
       "text": [
        "[[[7, 17, 33, 21, 15, 17, 34, 14, 17, 19]], [[2, 8, 3, 5, 3, 7, 10, 6, 10, 3]]]\n"
       ]
      }
     ],
     "prompt_number": 9
    },
    {
     "cell_type": "code",
     "collapsed": false,
     "input": [
      "def CA184(r):\n",
      "    for i\n",
      "    "
     ],
     "language": "python",
     "metadata": {},
     "outputs": []
    }
   ],
   "metadata": {}
  }
 ]
}