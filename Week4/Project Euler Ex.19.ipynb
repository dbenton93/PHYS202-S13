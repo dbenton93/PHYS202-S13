{
 "metadata": {
  "name": "Project Euler Ex.19"
 },
 "nbformat": 3,
 "nbformat_minor": 0,
 "worksheets": [
  {
   "cells": [
    {
     "cell_type": "markdown",
     "metadata": {},
     "source": [
      "How many sundays fell on the first of every month during the 20th century (Jan 1, 1901 - Dec 31, 2000)"
     ]
    },
    {
     "cell_type": "code",
     "collapsed": false,
     "input": [
      "def leap(year):\n",
      "    \"\"\"Return True for leap years, False for other years.\"\"\"\n",
      "    return year % 4 == 0 and (year % 100 != 0 or year % 400 == 0)\n",
      "def addcal(days):\n",
      "    day = 1\n",
      "    weekday = calender[-1][3]\n",
      "    weekDayIndex = weekDays.index(weekday)\n",
      "    while day <= days:\n",
      "        calender.append([day,month,year,weekdays[((weekDayIndex+1)%7)]])\n",
      "        day += 1\n",
      "        weekDayIndex = ((weekDayIndex+1)%7)\n",
      "years = range(1900,2001)\n",
      "months = ['Jan','Feb','March','April','May','June',\\\n",
      "          'July','August','Sept','Oct','Nov','Dec']\n",
      "weekdays = ['Mon','Tue','Wed','Thr','Fri','Sat','Sun']\n",
      "calender = [[0,0,0,'Sun']]\n",
      "for year in years:\n",
      "    for month in months:\n",
      "    \n",
      "        if month in ['Sept','April','June','Nov']:\n",
      "            addcal(30)\n",
      "        \n",
      "        elif month == 'Feb' and leap(year):\n",
      "            addcal(29)\n",
      "\n",
      "        elif month == 'Feb':\n",
      "            addcal(28)\n",
      "\n",
      "        else:\n",
      "            addcal(31)\n",
      "count = 0\n",
      "for days in calender:\n",
      "\n",
      "    if days[2] > 1900 and days[0] == 1 and days[3] == 'Sun':\n",
      "        count += 1\n",
      "print count"
     ],
     "language": "python",
     "metadata": {},
     "outputs": [
      {
       "output_type": "stream",
       "stream": "stdout",
       "text": [
        "171\n"
       ]
      }
     ],
     "prompt_number": 5
    },
    {
     "cell_type": "code",
     "collapsed": false,
     "input": [],
     "language": "python",
     "metadata": {},
     "outputs": [],
     "prompt_number": 2
    },
    {
     "cell_type": "code",
     "collapsed": false,
     "input": [],
     "language": "python",
     "metadata": {},
     "outputs": [],
     "prompt_number": 2
    },
    {
     "cell_type": "code",
     "collapsed": false,
     "input": [],
     "language": "python",
     "metadata": {},
     "outputs": []
    }
   ],
   "metadata": {}
  }
 ]
}