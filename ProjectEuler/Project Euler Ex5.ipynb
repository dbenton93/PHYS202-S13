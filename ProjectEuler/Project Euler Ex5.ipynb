{
 "metadata": {
  "name": "Project Euler Ex5"
 },
 "nbformat": 3,
 "nbformat_minor": 0,
 "worksheets": [
  {
   "cells": [
    {
     "cell_type": "markdown",
     "metadata": {},
     "source": [
      "Smallest Multiple\n",
      "=================\n",
      "Problem 5\n",
      "---------\n",
      "2520 is the smallest number that can be divided by each of the numbers from 1 to 10 without any remainder.\n",
      "\n",
      "What is the smallest positive number that is evenly divisible by all of the numbers from 1 to 20?\n"
     ]
    },
    {
     "cell_type": "code",
     "collapsed": false,
     "input": [
      "def factors(n):\n",
      "    factors = []\n",
      "    while n % 2 == 0:\n",
      "        factors.append(2)\n",
      "        n = n/2\n",
      "    q = 3\n",
      "    while n != 1:\n",
      "        while n % q == 0:\n",
      "            factors.append(q)\n",
      "            n = n/q\n",
      "        q += 2\n",
      "    return factors\n",
      "def factortolist(factors,x):\n",
      "    if len(factors) == 0: return x\n",
      "    for i in range(len(x)):\n",
      "        x2 = x.count(x[i])\n",
      "        x1 = factors.count(x[i])\n",
      "        if i > 0 and x[i] == x[i-1]:\n",
      "            if x2 > x1:\n",
      "                for j in range(x2 - x1): factors.append(x[i])\n",
      "    factors.sort()\n",
      "    return factors\n",
      "def divisible(num):\n",
      "    F = []\n",
      "    for i in range(1,num + 1):\n",
      "        F = factortolist(F,factors(i))\n",
      "    product = 1\n",
      "    for i in F: product *= i\n",
      "    return product\n",
      "answer = divisible(20)\n",
      "print answer"
     ],
     "language": "python",
     "metadata": {},
     "outputs": [
      {
       "output_type": "stream",
       "stream": "stdout",
       "text": [
        "144\n"
       ]
      }
     ],
     "prompt_number": 14
    },
    {
     "cell_type": "code",
     "collapsed": false,
     "input": [
      "#?!?!!? I dunno..."
     ],
     "language": "python",
     "metadata": {},
     "outputs": [],
     "prompt_number": 15
    },
    {
     "cell_type": "code",
     "collapsed": false,
     "input": [],
     "language": "python",
     "metadata": {},
     "outputs": []
    }
   ],
   "metadata": {}
  }
 ]
}