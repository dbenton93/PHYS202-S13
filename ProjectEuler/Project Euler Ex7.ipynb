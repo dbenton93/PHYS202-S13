{
 "metadata": {
  "name": "Project Euler Ex7"
 },
 "nbformat": 3,
 "nbformat_minor": 0,
 "worksheets": [
  {
   "cells": [
    {
     "cell_type": "markdown",
     "metadata": {},
     "source": [
      "10001st prime\n",
      "=============\n",
      "Problem 7\n",
      "---------\n",
      "By listing the first six prime numbers: 2, 3, 5, 7, 11, and 13, we can see that the 6th prime is 13.\n",
      "\n",
      "What is the 10001st prime number?"
     ]
    },
    {
     "cell_type": "code",
     "collapsed": false,
     "input": [
      "def is_prime(n):\n",
      "    for i in range(3,int(n**.5)+1,2):\n",
      "        if not n%i:\n",
      "            return False\n",
      "    return True\n",
      "def plist(n):\n",
      "    primes = [2,3,5]\n",
      "    i = max(primes) + 2\n",
      "    while len(primes) < n:\n",
      "        if is_prime(i) == True:\n",
      "            primes.append(i)\n",
      "        i+=2\n",
      "    return primes\n",
      "print max(plist(10001))"
     ],
     "language": "python",
     "metadata": {},
     "outputs": [
      {
       "output_type": "stream",
       "stream": "stdout",
       "text": [
        "104743\n"
       ]
      }
     ],
     "prompt_number": 21
    },
    {
     "cell_type": "markdown",
     "metadata": {},
     "source": [
      "Test Case(s)"
     ]
    },
    {
     "cell_type": "code",
     "collapsed": false,
     "input": [
      "print max(plist(5))\n",
      "print max(plist(10))"
     ],
     "language": "python",
     "metadata": {},
     "outputs": [
      {
       "output_type": "stream",
       "stream": "stdout",
       "text": [
        "11\n",
        "29\n"
       ]
      }
     ],
     "prompt_number": 22
    },
    {
     "cell_type": "code",
     "collapsed": false,
     "input": [],
     "language": "python",
     "metadata": {},
     "outputs": []
    }
   ],
   "metadata": {}
  }
 ]
}