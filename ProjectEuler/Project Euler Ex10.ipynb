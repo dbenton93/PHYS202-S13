{
 "metadata": {
  "name": "Project Euler Ex10"
 },
 "nbformat": 3,
 "nbformat_minor": 0,
 "worksheets": [
  {
   "cells": [
    {
     "cell_type": "markdown",
     "metadata": {},
     "source": [
      "Summation of primes\n",
      "===================\n",
      "Problem 10\n",
      "----------\n",
      "The sum of the primes below 10 is 2 + 3 + 5 + 7 = 17.\n",
      "\n",
      "Find the sum of all the primes below two million."
     ]
    },
    {
     "cell_type": "code",
     "collapsed": false,
     "input": [
      "import math\n",
      "\n",
      "def gen_prime():\n",
      "    yield 2\n",
      "    x=3\n",
      "    while True:\n",
      "        if(no_of_multipliers(x)):\n",
      "            yield x\n",
      "        x=x+2\n",
      "\n",
      "\n",
      "def no_of_multipliers(x):\n",
      "    count=0\n",
      "    for i in range(1,int(math.sqrt(x))+1,2):\n",
      "        if(x%i==0):\n",
      "            count=count+1\n",
      "    if(count>1):\n",
      "        return False\n",
      "    return True\n",
      "\n",
      "def sum_of_primes_below_2million():\n",
      "    summation=0\n",
      "    for i in gen_prime():\n",
      "        if(i<2000000):\n",
      "            summation+=i\n",
      "        else:\n",
      "            break\n",
      "    return summation\n",
      "print sum_of_primes_below_2million()"
     ],
     "language": "python",
     "metadata": {},
     "outputs": [
      {
       "output_type": "stream",
       "stream": "stdout",
       "text": [
        "142913828922\n"
       ]
      }
     ],
     "prompt_number": 7
    },
    {
     "cell_type": "markdown",
     "metadata": {},
     "source": [
      "Test Case"
     ]
    },
    {
     "cell_type": "code",
     "collapsed": false,
     "input": [
      "def sum_of_primes_below_10():\n",
      "    summation=0\n",
      "    for i in gen_prime():\n",
      "        if(i<10):\n",
      "            summation+=i\n",
      "        else:\n",
      "            break\n",
      "    return summation\n",
      "print sum_of_primes_below_10()"
     ],
     "language": "python",
     "metadata": {},
     "outputs": [
      {
       "output_type": "stream",
       "stream": "stdout",
       "text": [
        "17\n"
       ]
      }
     ],
     "prompt_number": 10
    },
    {
     "cell_type": "code",
     "collapsed": false,
     "input": [],
     "language": "python",
     "metadata": {},
     "outputs": []
    }
   ],
   "metadata": {}
  }
 ]
}