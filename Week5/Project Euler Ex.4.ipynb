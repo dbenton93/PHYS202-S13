{
 "metadata": {
  "name": "Project Euler Ex.4"
 },
 "nbformat": 3,
 "nbformat_minor": 0,
 "worksheets": [
  {
   "cells": [
    {
     "cell_type": "markdown",
     "metadata": {},
     "source": [
      "Largest palindrome product\n",
      "==========================\n",
      "Problem 4\n",
      "---------\n",
      "A palindromic number reads the same both ways. The largest palindrome made from the product of two 2-digit numbers is 9009 = 91 \u00d7 99.\n",
      "\n",
      "Find the largest palindrome made from the product of two 3-digit numbers.\n"
     ]
    },
    {
     "cell_type": "code",
     "collapsed": false,
     "input": [
      "def palindrome(x):\n",
      "    return str(x) == str(x)[::-1]\n",
      "max_p = 0\n",
      "for i in range(100, 999):\n",
      "    for j in range(i+1, 1000):\n",
      "        m = i * j\n",
      "        if palindrome(m) and m > max_p:\n",
      "            max_p = m\n",
      "            #was curious as to what two numbers made the answer, so after I found the solution I went back and told it to tell me what\n",
      "            #the i and j it was using to get the max_p were!\n",
      "            if max_p == 906609:\n",
      "                print i\n",
      "                print j\n",
      "print max_p"
     ],
     "language": "python",
     "metadata": {},
     "outputs": [
      {
       "output_type": "stream",
       "stream": "stdout",
       "text": [
        "913\n",
        "993\n",
        "906609\n"
       ]
      }
     ],
     "prompt_number": 37
    },
    {
     "cell_type": "code",
     "collapsed": false,
     "input": [],
     "language": "python",
     "metadata": {},
     "outputs": [],
     "prompt_number": 20
    },
    {
     "cell_type": "code",
     "collapsed": false,
     "input": [
      " \n",
      "                \n",
      "            \n",
      "    "
     ],
     "language": "python",
     "metadata": {},
     "outputs": [],
     "prompt_number": 20
    },
    {
     "cell_type": "code",
     "collapsed": false,
     "input": [],
     "language": "python",
     "metadata": {},
     "outputs": [],
     "prompt_number": 19
    },
    {
     "cell_type": "code",
     "collapsed": false,
     "input": [],
     "language": "python",
     "metadata": {},
     "outputs": []
    }
   ],
   "metadata": {}
  }
 ]
}