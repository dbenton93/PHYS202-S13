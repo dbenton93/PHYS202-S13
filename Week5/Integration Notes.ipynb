{
 "metadata": {
  "name": "Integration Notes"
 },
 "nbformat": 3,
 "nbformat_minor": 0,
 "worksheets": [
  {
   "cells": [
    {
     "cell_type": "markdown",
     "metadata": {},
     "source": [
      "Ex1."
     ]
    },
    {
     "cell_type": "code",
     "collapsed": false,
     "input": [
      "f = lambda x: x**4 -2*x + 1"
     ],
     "language": "python",
     "metadata": {},
     "outputs": [],
     "prompt_number": 2
    },
    {
     "cell_type": "code",
     "collapsed": false,
     "input": [
      "N = 100\n",
      "a = 0.0\n",
      "b = 2.0\n",
      "h = (b-a)/N\n",
      "s = 0.5*f(a) + 0.5*f(b)\n",
      "for k in range(1,N):\n",
      "    s += f(a+k*h)\n",
      "print (h*s)    "
     ],
     "language": "python",
     "metadata": {},
     "outputs": [
      {
       "output_type": "stream",
       "stream": "stdout",
       "text": [
        "4.401066656\n"
       ]
      }
     ],
     "prompt_number": 3
    },
    {
     "cell_type": "markdown",
     "metadata": {},
     "source": [
      "part 2"
     ]
    },
    {
     "cell_type": "code",
     "collapsed": false,
     "input": [
      "N = 1000"
     ],
     "language": "python",
     "metadata": {},
     "outputs": [],
     "prompt_number": 4
    },
    {
     "cell_type": "code",
     "collapsed": false,
     "input": [
      "print (h*s)"
     ],
     "language": "python",
     "metadata": {},
     "outputs": [
      {
       "output_type": "stream",
       "stream": "stdout",
       "text": [
        "4.401066656\n"
       ]
      }
     ],
     "prompt_number": 5
    },
    {
     "cell_type": "markdown",
     "metadata": {},
     "source": [
      "Ex2."
     ]
    },
    {
     "cell_type": "code",
     "collapsed": false,
     "input": [
      "a=0.0\n",
      "b=2.0\n",
      "N=10\n",
      "h=(b-a)/N\n",
      "s = (1/3.)*h*(f(a)+(f(b)))\n",
      "\n",
      "for k in range(1,N/2+1):\n",
      "    s += 1/3.*h*4*((f(a+(2*k-1)*h)))\n",
      "for i in range(1,N/2):\n",
      "    s += 1/3.*h*2*((f(a+2*i*h)))\n",
      "print s\n",
      "print (s-4.4)/4.4 #fractional error"
     ],
     "language": "python",
     "metadata": {},
     "outputs": [
      {
       "output_type": "stream",
       "stream": "stdout",
       "text": [
        "4.40042666667\n",
        "9.69696969697e-05\n"
       ]
      }
     ],
     "prompt_number": 46
    },
    {
     "cell_type": "code",
     "collapsed": false,
     "input": [
      "a=0.0\n",
      "b=2.0\n",
      "N=100\n",
      "h=(b-a)/N\n",
      "s = (1/3.)*h*(f(a)+(f(b)))\n",
      "for k in range(1,N/2+1):\n",
      "    s += 1/3.*h*4*((f(a+(2*k-1)*h)))\n",
      "for i in range(1,N/2):\n",
      "    s += 1/3.*h*2*((f(a+2*i*h)))\n",
      "print s\n",
      "print (s-4.4)/4.4"
     ],
     "language": "python",
     "metadata": {},
     "outputs": [
      {
       "output_type": "stream",
       "stream": "stdout",
       "text": [
        "4.40000004267\n",
        "9.69696928815e-09\n"
       ]
      }
     ],
     "prompt_number": 47
    },
    {
     "cell_type": "code",
     "collapsed": false,
     "input": [
      "a=0.0\n",
      "b=2.0\n",
      "N=1000\n",
      "h=(b-a)/N\n",
      "s = (1/3.)*h*(f(a)+(f(b)))\n",
      "for k in range(1,N/2+1):\n",
      "    s += 1/3.*h*4*((f(a+(2*k-1)*h)))\n",
      "for i in range(1,N/2):\n",
      "    s += 1/3.*h*2*((f(a+2*i*h)))\n",
      "print s\n",
      "print (s-4.4)/4.4"
     ],
     "language": "python",
     "metadata": {},
     "outputs": [
      {
       "output_type": "stream",
       "stream": "stdout",
       "text": [
        "4.4\n",
        "9.70334923522e-13\n"
       ]
      }
     ],
     "prompt_number": 48
    },
    {
     "cell_type": "code",
     "collapsed": false,
     "input": [
      "diffofsimponsandtraprulefor_n_1000 = 4.401066656-s #4.401.... is copied from ex1\n",
      "print diffofsimponsandtraprulefor_n_1000"
     ],
     "language": "python",
     "metadata": {},
     "outputs": [
      {
       "output_type": "stream",
       "stream": "stdout",
       "text": [
        "0.00106665599573\n"
       ]
      }
     ],
     "prompt_number": 52
    },
    {
     "cell_type": "markdown",
     "metadata": {},
     "source": [
      "Simpsons rule wayy more accurate!"
     ]
    },
    {
     "cell_type": "code",
     "collapsed": false,
     "input": [],
     "language": "python",
     "metadata": {},
     "outputs": [],
     "prompt_number": 52
    },
    {
     "cell_type": "code",
     "collapsed": false,
     "input": [
      "import scipy.integrate as integrate"
     ],
     "language": "python",
     "metadata": {},
     "outputs": [],
     "prompt_number": 55
    },
    {
     "cell_type": "code",
     "collapsed": false,
     "input": [
      "theta = linspace(0,pi,0.3)\n",
      "Iwrong = integrate.trapz(theta,cos(theta))\n",
      "print Iwrong"
     ],
     "language": "python",
     "metadata": {},
     "outputs": [
      {
       "output_type": "stream",
       "stream": "stdout",
       "text": [
        "0.0\n"
       ]
      }
     ],
     "prompt_number": 57
    },
    {
     "cell_type": "code",
     "collapsed": false,
     "input": [
      "theta = linspace(0,0.3,pi)"
     ],
     "language": "python",
     "metadata": {},
     "outputs": [],
     "prompt_number": 58
    },
    {
     "cell_type": "code",
     "collapsed": false,
     "input": [
      "Iright = integrate.trapz(theta,cos(theta))\n",
      "print Iright"
     ],
     "language": "python",
     "metadata": {},
     "outputs": [
      {
       "output_type": "stream",
       "stream": "stdout",
       "text": [
        "-0.00836495163714\n"
       ]
      }
     ],
     "prompt_number": 60
    },
    {
     "cell_type": "code",
     "collapsed": false,
     "input": [],
     "language": "python",
     "metadata": {},
     "outputs": []
    }
   ],
   "metadata": {}
  }
 ]
}