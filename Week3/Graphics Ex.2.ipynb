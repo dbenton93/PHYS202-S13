{
 "metadata": {
  "name": "Graphics Ex.2"
 },
 "nbformat": 3,
 "nbformat_minor": 0,
 "worksheets": [
  {
   "cells": [
    {
     "cell_type": "markdown",
     "metadata": {},
     "source": [
      "I."
     ]
    },
    {
     "cell_type": "markdown",
     "metadata": {},
     "source": [
      "a."
     ]
    },
    {
     "cell_type": "markdown",
     "metadata": {},
     "source": [
      "$\\psi_k(x) = A\\biggl(\\cfrac{ik - a\\tanh(ax)}{ik + a}\\biggr)e^{+ikx}$"
     ]
    },
    {
     "cell_type": "markdown",
     "metadata": {},
     "source": [
      "b."
     ]
    },
    {
     "cell_type": "markdown",
     "metadata": {},
     "source": [
      "$v_1 = m_2\\sqrt{\\cfrac{2G}{M}\\biggl(\\cfrac{1}{r} - \\cfrac{1}{r_o}\\biggr)}$"
     ]
    },
    {
     "cell_type": "markdown",
     "metadata": {},
     "source": [
      "c."
     ]
    },
    {
     "cell_type": "markdown",
     "metadata": {},
     "source": [
      "$f(\\theta) = \\cfrac{\\hslash}{p}\\sum\\limits_{\\ell = 0}^{\\infty}(2\\ell + 1)e^{i\\delta_\\ell}\\sin\\delta_\\ell P_\\ell (\\cos\\theta)$"
     ]
    },
    {
     "cell_type": "markdown",
     "metadata": {},
     "source": [
      "d."
     ]
    },
    {
     "cell_type": "markdown",
     "metadata": {},
     "source": [
      "$\\cfrac{d\\sigma}{d\\Omega} = \\cfrac{k\\pi^2(\\pi - \\theta)}{mu_o^2\\theta^2(2\\pi - \\theta)^2\\sin\\theta}$"
     ]
    },
    {
     "cell_type": "markdown",
     "metadata": {},
     "source": [
      "e."
     ]
    },
    {
     "cell_type": "markdown",
     "metadata": {},
     "source": [
      "$\\langle f \\rangle = \\cfrac{1}{\\tau}\\int\\limits_{0}^{\\tau} f(t)dt$"
     ]
    },
    {
     "cell_type": "markdown",
     "metadata": {},
     "source": [
      "f."
     ]
    },
    {
     "cell_type": "markdown",
     "metadata": {},
     "source": [
      "$\\Omega_S = \\omega\\cfrac{\\sin \\alpha}{\\sin \\theta} = \\cfrac{L}{\\lambda_1} = \\omega\\cfrac{\\sqrt{\\lambda_3^2 + (\\lambda_1^2 - \\lambda_3^2)\\sin\\alpha}}{\\lambda_1}$"
     ]
    },
    {
     "cell_type": "markdown",
     "metadata": {},
     "source": [
      "2."
     ]
    },
    {
     "cell_type": "code",
     "collapsed": false,
     "input": [
      "import numpy as np\n",
      "import math"
     ],
     "language": "python",
     "metadata": {},
     "outputs": [],
     "prompt_number": 5
    },
    {
     "cell_type": "code",
     "collapsed": false,
     "input": [
      "x = np.arange(-np.pi - .5, np.pi + .5, np.pi/1028)\n",
      "U = -((1/np.cosh(x))**2)\n"
     ],
     "language": "python",
     "metadata": {},
     "outputs": [],
     "prompt_number": 27
    },
    {
     "cell_type": "code",
     "collapsed": false,
     "input": [
      "plot (x,U)\n",
      "xticks(np.arange(-pi, pi + 1, pi/2),('$-\\pi$','$-\\pi/2$','$0$', '$\\pi/2$', '$\\pi$'))"
     ],
     "language": "python",
     "metadata": {},
     "outputs": [
      {
       "output_type": "pyout",
       "prompt_number": 28,
       "text": [
        "([<matplotlib.axis.XTick at 0x10a803350>,\n",
        "  <matplotlib.axis.XTick at 0x10a80e8d0>,\n",
        "  <matplotlib.axis.XTick at 0x10a96d710>,\n",
        "  <matplotlib.axis.XTick at 0x10a96dd10>,\n",
        "  <matplotlib.axis.XTick at 0x10a96a3d0>],\n",
        " <a list of 5 Text xticklabel objects>)"
       ]
      },
      {
       "output_type": "display_data",
       "png": "[encoded data removed]"
      }
     ],
     "prompt_number": 28
    },
    {
     "cell_type": "code",
     "collapsed": false,
     "input": [
      "arange(\n",
      "       xticks("
     ],
     "language": "python",
     "metadata": {},
     "outputs": []
    }
   ],
   "metadata": {}
  }
 ]
}